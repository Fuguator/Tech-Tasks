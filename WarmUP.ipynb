{
 "cells": [
  {
   "cell_type": "code",
   "execution_count": 1,
   "id": "fd27dd5e-bb72-45f0-bc55-d543589b621c",
   "metadata": {},
   "outputs": [],
   "source": [
    "import requests\n",
    "from bs4 import BeautifulSoup\n",
    "import pandas as pd\n",
    "from urllib.parse import urljoin"
   ]
  },
  {
   "cell_type": "code",
   "execution_count": 2,
   "id": "8400a571-ef6f-463b-aef9-842e66ab5710",
   "metadata": {},
   "outputs": [],
   "source": [
    "url = \"https://bina.az/\""
   ]
  },
  {
   "cell_type": "code",
   "execution_count": 3,
   "id": "8aacf19a-0709-4328-810c-675de981b9ab",
   "metadata": {},
   "outputs": [],
   "source": [
    "headers = {\n",
    "    \"User-Agent\": \"Mozilla/5.0 (Windows NT 10.0; Win64; x64) AppleWebKit/537.36 (KHTML, like Gecko) Chrome/130.0.0.0 Safari/537.36\"\n",
    "}"
   ]
  },
  {
   "cell_type": "code",
   "execution_count": 4,
   "id": "95f4ed86-8773-476e-93db-8f79a498cf21",
   "metadata": {},
   "outputs": [],
   "source": [
    "response = requests.get(url, headers=headers)\n",
    "response.raise_for_status()"
   ]
  },
  {
   "cell_type": "code",
   "execution_count": 5,
   "id": "cef48b42-b8e0-428e-8517-ca32f6d4ff03",
   "metadata": {},
   "outputs": [],
   "source": [
    "soup = BeautifulSoup(response.text, 'html.parser')"
   ]
  },
  {
   "cell_type": "code",
   "execution_count": 6,
   "id": "355e61f1-cd60-4e45-87ed-1c3ad5538949",
   "metadata": {},
   "outputs": [],
   "source": [
    "items = soup.find_all('div', class_='items-i')"
   ]
  },
  {
   "cell_type": "code",
   "execution_count": 7,
   "id": "fab41a88-a7e2-4f6f-a241-91bbf77ca927",
   "metadata": {},
   "outputs": [],
   "source": [
    "data = []\n",
    "for item in items:\n",
    "    title_elem = item.find('div', class_='card_title')\n",
    "    title = title_elem.text.strip() if title_elem else 'N/A'\n",
    "\n",
    "    price_elem = item.find('div', class_='price')\n",
    "    price = price_elem.text.strip() if price_elem else 'N/A'\n",
    "\n",
    "    location_elem = item.find('div', class_='location')\n",
    "    location = location_elem.text.strip() if location_elem else 'N/A'\n",
    "\n",
    "    link_elem = item.find('a', class_='item_link')\n",
    "    link = urljoin(url, link_elem['href']) if link_elem else 'N/A'\n",
    "\n",
    "    data.append({\n",
    "        'Title': title,\n",
    "        'Price': price,\n",
    "        'Location': location,\n",
    "        'Link': link\n",
    "    })"
   ]
  },
  {
   "cell_type": "code",
   "execution_count": 8,
   "id": "1e45c56e-7456-4b6d-b933-3df5c65cd6b6",
   "metadata": {},
   "outputs": [],
   "source": [
    "df = pd.DataFrame(data)"
   ]
  },
  {
   "cell_type": "code",
   "execution_count": 9,
   "id": "9fdb4de7-d334-4659-a8ee-a91ce9158b3d",
   "metadata": {},
   "outputs": [],
   "source": [
    "df.to_csv('bina_az_listings.csv', index=False, encoding='utf-8-sig')"
   ]
  },
  {
   "cell_type": "code",
   "execution_count": 10,
   "id": "42ab1c29-e234-4d3a-88fd-9ceafcc8bd58",
   "metadata": {},
   "outputs": [
    {
     "name": "stdout",
     "output_type": "stream",
     "text": [
      "   Title         Price              Location                           Link\n",
      "0    N/A     600AZN/ay           8 Noyabr m.  https://bina.az/items/5173881\n",
      "1    N/A  4 800 000AZN              Şıxov q.  https://bina.az/items/4890046\n",
      "2    N/A   1 000AZN/ay             Nəsimi r.  https://bina.az/items/4983409\n",
      "3    N/A    185 000AZN       Həzi Aslanov m.  https://bina.az/items/5139265\n",
      "4    N/A    335 000AZN  Nəriman Nərimanov m.  https://bina.az/items/5127570\n",
      "5    N/A    285 000AZN          Qaraçuxur q.  https://bina.az/items/4479443\n",
      "6    N/A    100 000AZN               Qala q.  https://bina.az/items/3751493\n",
      "7    N/A   4 400AZN/ay             Nəsimi r.  https://bina.az/items/2753210\n",
      "8    N/A    174 000AZN          Qaraçuxur q.  https://bina.az/items/5198624\n",
      "9    N/A   1 450AZN/ay  Şah İsmayıl Xətai m.  https://bina.az/items/5206375\n",
      "10   N/A    499 000AZN           Ağ şəhər q.  https://bina.az/items/5194853\n",
      "11   N/A     850AZN/ay  Nəriman Nərimanov m.  https://bina.az/items/5180541\n",
      "12   N/A    133 000AZN    8-ci mikrorayon q.  https://bina.az/items/5147700\n",
      "13   N/A    650 000AZN           Mərdəkan q.  https://bina.az/items/5193636\n",
      "14   N/A    150 000AZN            Buzovna q.  https://bina.az/items/5134212\n",
      "15   N/A  10 200AZN/ay            Novxanı q.  https://bina.az/items/4898500\n"
     ]
    }
   ],
   "source": [
    "print(df)"
   ]
  }
 ],
 "metadata": {
  "kernelspec": {
   "display_name": "Python 3 (ipykernel)",
   "language": "python",
   "name": "python3"
  },
  "language_info": {
   "codemirror_mode": {
    "name": "ipython",
    "version": 3
   },
   "file_extension": ".py",
   "mimetype": "text/x-python",
   "name": "python",
   "nbconvert_exporter": "python",
   "pygments_lexer": "ipython3",
   "version": "3.12.3"
  }
 },
 "nbformat": 4,
 "nbformat_minor": 5
}
