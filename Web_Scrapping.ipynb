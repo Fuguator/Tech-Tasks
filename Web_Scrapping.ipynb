{
 "cells": [
  {
   "cell_type": "code",
   "execution_count": 1,
   "id": "f7f03b52-699c-4414-83e3-0542b75b2c2e",
   "metadata": {},
   "outputs": [
    {
     "name": "stdout",
     "output_type": "stream",
     "text": [
      "Requirement already satisfied: beautifulsoup4 in ./venv/lib/python3.12/site-packages (4.13.4)\n",
      "Requirement already satisfied: pandas in ./venv/lib/python3.12/site-packages (2.2.3)\n",
      "Requirement already satisfied: soupsieve>1.2 in ./venv/lib/python3.12/site-packages (from beautifulsoup4) (2.7)\n",
      "Requirement already satisfied: typing-extensions>=4.0.0 in ./venv/lib/python3.12/site-packages (from beautifulsoup4) (4.13.2)\n",
      "Requirement already satisfied: numpy>=1.26.0 in ./venv/lib/python3.12/site-packages (from pandas) (2.2.5)\n",
      "Requirement already satisfied: python-dateutil>=2.8.2 in ./venv/lib/python3.12/site-packages (from pandas) (2.9.0.post0)\n",
      "Requirement already satisfied: pytz>=2020.1 in ./venv/lib/python3.12/site-packages (from pandas) (2025.2)\n",
      "Requirement already satisfied: tzdata>=2022.7 in ./venv/lib/python3.12/site-packages (from pandas) (2025.2)\n",
      "Requirement already satisfied: six>=1.5 in ./venv/lib/python3.12/site-packages (from python-dateutil>=2.8.2->pandas) (1.17.0)\n",
      "Note: you may need to restart the kernel to use updated packages.\n"
     ]
    }
   ],
   "source": [
    "pip install beautifulsoup4 pandas"
   ]
  },
  {
   "cell_type": "code",
   "execution_count": 4,
   "id": "d27823f9-fcfc-4f13-a5e4-e9fd4feb5f5a",
   "metadata": {},
   "outputs": [],
   "source": [
    "from bs4 import BeautifulSoup\n",
    "import pandas as pd\n"
   ]
  },
  {
   "cell_type": "code",
   "execution_count": 5,
   "id": "4e029233-6623-48a6-8960-a86f7b0ab16b",
   "metadata": {},
   "outputs": [],
   "source": [
    "with open('students.html', 'r', encoding='utf-8') as file:\n",
    "    html_content = file.read()"
   ]
  },
  {
   "cell_type": "code",
   "execution_count": 6,
   "id": "2a5ec920-b9f2-49b1-a9ba-d12abe77e27a",
   "metadata": {},
   "outputs": [],
   "source": [
    "soup = BeautifulSoup(html_content, 'html.parser')"
   ]
  },
  {
   "cell_type": "code",
   "execution_count": 7,
   "id": "9159b848-a3fc-4c39-84d2-a0f87185ddf6",
   "metadata": {},
   "outputs": [],
   "source": [
    "table = soup.find('table')"
   ]
  },
  {
   "cell_type": "code",
   "execution_count": 8,
   "id": "ce8da5c7-9260-483a-a0fe-5c668c6d9f51",
   "metadata": {},
   "outputs": [],
   "source": [
    "headers = [th.text.strip() for th in table.find('thead').find_all('th')]"
   ]
  },
  {
   "cell_type": "code",
   "execution_count": 9,
   "id": "2cd8ee8d-a425-4d09-ac7a-0599bcec6e44",
   "metadata": {},
   "outputs": [],
   "source": [
    "rows = []\n",
    "for tr in table.find('tbody').find_all('tr'):\n",
    "    row = [td.text.strip() for td in tr.find_all('td')]\n",
    "    rows.append(row)"
   ]
  },
  {
   "cell_type": "code",
   "execution_count": 10,
   "id": "23e22256-f105-40b3-8ec3-878cee414586",
   "metadata": {},
   "outputs": [],
   "source": [
    "df = pd.DataFrame(rows, columns=headers)"
   ]
  },
  {
   "cell_type": "code",
   "execution_count": 11,
   "id": "50c88092-90d5-46a6-b164-594fe1eaeaad",
   "metadata": {},
   "outputs": [],
   "source": [
    "df.to_csv('student_grades.csv', index=False)"
   ]
  },
  {
   "cell_type": "code",
   "execution_count": 12,
   "id": "64abd592-9060-49c2-9222-f47fa0661c1e",
   "metadata": {},
   "outputs": [
    {
     "name": "stdout",
     "output_type": "stream",
     "text": [
      "     #             Full Name Math English Programming Remarks\n",
      "0    1        Khalilov Aydin   78      82          85    Pass\n",
      "1    2          Aziz Abbasov   67      60          55    Pass\n",
      "2    3     Amina Abdullayeva   48      52          40    Fail\n",
      "3    4          Ulduz agaeva   85      88          91    Pass\n",
      "4    5          Kenan Agayev   60      55          58    Pass\n",
      "5    6     Aysu Alipashayeva   35      42          39    Fail\n",
      "6    7         Rashad Aliyev   70      75          80    Pass\n",
      "7    8        Madina Aliyeva   90      85          88    Pass\n",
      "8    9  Habiba Balakishiyeva   45      48          50    Fail\n",
      "9   10         Musa Baxşiyev   77      70          65    Pass\n",
      "10  11         Nihat Cəfərli   95      92          90    Pass\n",
      "11  12        Kamran Gasanov   39      45          41    Fail\n",
      "12  13   Narmin Gulmammadova   58      62          59    Pass\n",
      "13  14          Roza Haşımlı   87      90          85    Pass\n",
      "14  15     Aytac Maharramova   43      50          47    Fail\n",
      "15  16          Zaur Askerov   66      70          72    Pass\n",
      "16  17       Kanan Qasimzada   51      55          58    Pass\n",
      "17  18      Beyim quseynzade   49      39          42    Fail\n",
      "18  19     Nuray Shiraliyeva   93      90          94    Pass\n",
      "19  20          Фуад Аббасов   58      61          64    Pass\n",
      "20  21        Aygun Muradova   72      68          71    Pass\n",
      "21  22        Kamal Pashayev   83      86          88    Pass\n",
      "22  23       Leyla Ahmadzade   54      49          53    Fail\n",
      "23  24        Nuray Masimova   69      70          75    Pass\n",
      "24  25         Rufat Babayev   60      63          66    Pass\n",
      "25  26       Məhəmməd Avdoev   39      40          35    Fail\n",
      "26  27        Səməd Məmmədli   85      82          84    Pass\n",
      "27  28        Nihat Tagizade   92      89          91    Pass\n",
      "28  29     Kanan Ismayilzade   46      51          49    Fail\n"
     ]
    }
   ],
   "source": [
    "print(df)"
   ]
  }
 ],
 "metadata": {
  "kernelspec": {
   "display_name": "Python 3 (ipykernel)",
   "language": "python",
   "name": "python3"
  },
  "language_info": {
   "codemirror_mode": {
    "name": "ipython",
    "version": 3
   },
   "file_extension": ".py",
   "mimetype": "text/x-python",
   "name": "python",
   "nbconvert_exporter": "python",
   "pygments_lexer": "ipython3",
   "version": "3.12.3"
  }
 },
 "nbformat": 4,
 "nbformat_minor": 5
}
